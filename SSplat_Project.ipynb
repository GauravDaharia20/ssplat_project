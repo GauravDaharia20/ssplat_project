{
 "cells": [
  {
   "cell_type": "code",
   "execution_count": 1,
   "metadata": {},
   "outputs": [],
   "source": [
    "import pandas as pd\n",
    "import numpy as np"
   ]
  },
  {
   "cell_type": "code",
   "execution_count": 2,
   "metadata": {},
   "outputs": [],
   "source": [
    "data = pd.read_csv('C:\\\\Users\\\\gaurav\\\\Downloads\\\\file.csv')"
   ]
  },
  {
   "cell_type": "code",
   "execution_count": 11,
   "metadata": {},
   "outputs": [
    {
     "data": {
      "text/plain": [
       "(300, 9)"
      ]
     },
     "execution_count": 11,
     "metadata": {},
     "output_type": "execute_result"
    }
   ],
   "source": [
    "data.shape"
   ]
  },
  {
   "cell_type": "code",
   "execution_count": 6,
   "metadata": {},
   "outputs": [],
   "source": [
    "data.fillna(method='ffill',inplace=True)"
   ]
  },
  {
   "cell_type": "code",
   "execution_count": 54,
   "metadata": {},
   "outputs": [
    {
     "data": {
      "text/html": [
       "<div>\n",
       "<style scoped>\n",
       "    .dataframe tbody tr th:only-of-type {\n",
       "        vertical-align: middle;\n",
       "    }\n",
       "\n",
       "    .dataframe tbody tr th {\n",
       "        vertical-align: top;\n",
       "    }\n",
       "\n",
       "    .dataframe thead th {\n",
       "        text-align: right;\n",
       "    }\n",
       "</style>\n",
       "<table border=\"1\" class=\"dataframe\">\n",
       "  <thead>\n",
       "    <tr style=\"text-align: right;\">\n",
       "      <th></th>\n",
       "      <th>source/id</th>\n",
       "      <th>source/name</th>\n",
       "      <th>author</th>\n",
       "      <th>title</th>\n",
       "      <th>description</th>\n",
       "      <th>url</th>\n",
       "      <th>urlToImage</th>\n",
       "      <th>publishedAt</th>\n",
       "      <th>content</th>\n",
       "    </tr>\n",
       "  </thead>\n",
       "  <tbody>\n",
       "    <tr>\n",
       "      <th>0</th>\n",
       "      <td>the-hindu</td>\n",
       "      <td>The Hindu</td>\n",
       "      <td>Rakesh Ankit</td>\n",
       "      <td>The Prime Minister India almost forgot</td>\n",
       "      <td>Lal Bahadur Shastri’s political life has lesso...</td>\n",
       "      <td>https://www.thehindu.com/opinion/lead/the-prim...</td>\n",
       "      <td>https://www.thehindu.com/opinion/lead/kk337s/a...</td>\n",
       "      <td>2020-10-01T18:42:46Z</td>\n",
       "      <td>Sharing his birthday with Gandhi and coming fr...</td>\n",
       "    </tr>\n",
       "    <tr>\n",
       "      <th>1</th>\n",
       "      <td>the-hindu</td>\n",
       "      <td>The Hindu</td>\n",
       "      <td>Special Correspondent</td>\n",
       "      <td>1,176-km road stretch in Hyderabad up for priv...</td>\n",
       "      <td>Contract agency to sweep roads at least once e...</td>\n",
       "      <td>https://www.thehindu.com/news/cities/Hyderabad...</td>\n",
       "      <td>https://www.thehindu.com/news/cities/Hyderabad...</td>\n",
       "      <td>2020-10-01T18:41:41Z</td>\n",
       "      <td>The GHMC standing committee has, during its me...</td>\n",
       "    </tr>\n",
       "    <tr>\n",
       "      <th>2</th>\n",
       "      <td>the-hindu</td>\n",
       "      <td>The Hindu</td>\n",
       "      <td>PTI</td>\n",
       "      <td>Officials ask sugar mills in Muzaffarnagar to ...</td>\n",
       "      <td>Mills told to clear payments before commenceme...</td>\n",
       "      <td>https://www.thehindu.com/news/national/other-s...</td>\n",
       "      <td>https://www.thehindu.com/static/theme/default/...</td>\n",
       "      <td>2020-10-01T18:40:54Z</td>\n",
       "      <td>Muzaffarnagar authorities in Uttar Pradesh on ...</td>\n",
       "    </tr>\n",
       "    <tr>\n",
       "      <th>3</th>\n",
       "      <td>the-hindu</td>\n",
       "      <td>The Hindu</td>\n",
       "      <td>Raina Assainar</td>\n",
       "      <td>Six held for robbing truck on Mumbai-Goa highway</td>\n",
       "      <td>The Raigad police have arrested a gang of six ...</td>\n",
       "      <td>https://www.thehindu.com/news/cities/mumbai/si...</td>\n",
       "      <td>https://www.thehindu.com/static/theme/default/...</td>\n",
       "      <td>2020-10-01T18:38:18Z</td>\n",
       "      <td>The Raigad police have arrested a gang of six ...</td>\n",
       "    </tr>\n",
       "    <tr>\n",
       "      <th>4</th>\n",
       "      <td>the-hindu</td>\n",
       "      <td>The Hindu</td>\n",
       "      <td>The Hindu</td>\n",
       "      <td>Constraining critique: On Amnesty halting Indi...</td>\n",
       "      <td>Amnesty’s decision to close shop in India is u...</td>\n",
       "      <td>https://www.thehindu.com/opinion/editorial/con...</td>\n",
       "      <td>https://www.thehindu.com/static/theme/default/...</td>\n",
       "      <td>2020-10-01T18:32:20Z</td>\n",
       "      <td>The role played by human rights organisations ...</td>\n",
       "    </tr>\n",
       "    <tr>\n",
       "      <th>...</th>\n",
       "      <td>...</td>\n",
       "      <td>...</td>\n",
       "      <td>...</td>\n",
       "      <td>...</td>\n",
       "      <td>...</td>\n",
       "      <td>...</td>\n",
       "      <td>...</td>\n",
       "      <td>...</td>\n",
       "      <td>...</td>\n",
       "    </tr>\n",
       "    <tr>\n",
       "      <th>295</th>\n",
       "      <td>msnbc</td>\n",
       "      <td>National Institutes of Health</td>\n",
       "      <td>CDC</td>\n",
       "      <td>Notice of Change to Key Dates for RFA-NS-19-00...</td>\n",
       "      <td>NIH Funding Opportunities and Notices in the N...</td>\n",
       "      <td>https://grants.nih.gov/grants/guide/notice-fil...</td>\n",
       "      <td>https://www.cdc.gov/mmwr/volumes/69/wr/social-...</td>\n",
       "      <td>2020-09-24T16:23:25Z</td>\n",
       "      <td>Notice of Change to Key Dates for RFA-NS-19-00...</td>\n",
       "    </tr>\n",
       "    <tr>\n",
       "      <th>296</th>\n",
       "      <td>msnbc</td>\n",
       "      <td>National Institutes of Health</td>\n",
       "      <td>CDC</td>\n",
       "      <td>Pre-Application Webinar for NCATS RFA-TR-20-03...</td>\n",
       "      <td>NIH Funding Opportunities and Notices in the N...</td>\n",
       "      <td>https://grants.nih.gov/grants/guide/notice-fil...</td>\n",
       "      <td>https://www.cdc.gov/mmwr/volumes/69/wr/social-...</td>\n",
       "      <td>2020-09-24T16:07:51Z</td>\n",
       "      <td>NCATS will host a pre-application webinar on T...</td>\n",
       "    </tr>\n",
       "    <tr>\n",
       "      <th>297</th>\n",
       "      <td>msnbc</td>\n",
       "      <td>National Institutes of Health</td>\n",
       "      <td>CDC</td>\n",
       "      <td>NHLBI Announces Availability of Frequently Ask...</td>\n",
       "      <td>NIH Funding Opportunities and Notices in the N...</td>\n",
       "      <td>https://grants.nih.gov/grants/guide/notice-fil...</td>\n",
       "      <td>https://www.cdc.gov/mmwr/volumes/69/wr/social-...</td>\n",
       "      <td>2020-09-24T16:07:51Z</td>\n",
       "      <td>RFA-HL-21-001 - Hybrid Effectiveness-Implement...</td>\n",
       "    </tr>\n",
       "    <tr>\n",
       "      <th>298</th>\n",
       "      <td>msnbc</td>\n",
       "      <td>Cdc.gov</td>\n",
       "      <td>CDC</td>\n",
       "      <td>Disseminating Timely Peer-Reviewed Content in ...</td>\n",
       "      <td>Preventing Chronic Disease (PCD) is a peer-rev...</td>\n",
       "      <td>https://www.cdc.gov/pcd/issues/2020/20_0447.htm</td>\n",
       "      <td>https://www.cdc.gov/mmwr/volumes/69/wr/social-...</td>\n",
       "      <td>2020-09-24T16:05:48Z</td>\n",
       "      <td>Suggested citation for this article: Jack L Jr...</td>\n",
       "    </tr>\n",
       "    <tr>\n",
       "      <th>299</th>\n",
       "      <td>msnbc</td>\n",
       "      <td>Cdc.gov</td>\n",
       "      <td>CDC</td>\n",
       "      <td>A Cross-Sectional Survey to Evaluate Potential...</td>\n",
       "      <td>Preventing Chronic Disease (PCD) is a peer-rev...</td>\n",
       "      <td>https://www.cdc.gov/pcd/issues/2020/19_0451.htm</td>\n",
       "      <td>https://www.cdc.gov/mmwr/volumes/69/wr/social-...</td>\n",
       "      <td>2020-09-24T16:05:48Z</td>\n",
       "      <td>Matthew Bozigar, PhD, MA1; Trevor D. Faith, MS...</td>\n",
       "    </tr>\n",
       "  </tbody>\n",
       "</table>\n",
       "<p>300 rows × 9 columns</p>\n",
       "</div>"
      ],
      "text/plain": [
       "     source/id                    source/name                 author  \\\n",
       "0    the-hindu                      The Hindu           Rakesh Ankit   \n",
       "1    the-hindu                      The Hindu  Special Correspondent   \n",
       "2    the-hindu                      The Hindu                    PTI   \n",
       "3    the-hindu                      The Hindu         Raina Assainar   \n",
       "4    the-hindu                      The Hindu              The Hindu   \n",
       "..         ...                            ...                    ...   \n",
       "295      msnbc  National Institutes of Health                    CDC   \n",
       "296      msnbc  National Institutes of Health                    CDC   \n",
       "297      msnbc  National Institutes of Health                    CDC   \n",
       "298      msnbc                        Cdc.gov                    CDC   \n",
       "299      msnbc                        Cdc.gov                    CDC   \n",
       "\n",
       "                                                 title  \\\n",
       "0               The Prime Minister India almost forgot   \n",
       "1    1,176-km road stretch in Hyderabad up for priv...   \n",
       "2    Officials ask sugar mills in Muzaffarnagar to ...   \n",
       "3     Six held for robbing truck on Mumbai-Goa highway   \n",
       "4    Constraining critique: On Amnesty halting Indi...   \n",
       "..                                                 ...   \n",
       "295  Notice of Change to Key Dates for RFA-NS-19-00...   \n",
       "296  Pre-Application Webinar for NCATS RFA-TR-20-03...   \n",
       "297  NHLBI Announces Availability of Frequently Ask...   \n",
       "298  Disseminating Timely Peer-Reviewed Content in ...   \n",
       "299  A Cross-Sectional Survey to Evaluate Potential...   \n",
       "\n",
       "                                           description  \\\n",
       "0    Lal Bahadur Shastri’s political life has lesso...   \n",
       "1    Contract agency to sweep roads at least once e...   \n",
       "2    Mills told to clear payments before commenceme...   \n",
       "3    The Raigad police have arrested a gang of six ...   \n",
       "4    Amnesty’s decision to close shop in India is u...   \n",
       "..                                                 ...   \n",
       "295  NIH Funding Opportunities and Notices in the N...   \n",
       "296  NIH Funding Opportunities and Notices in the N...   \n",
       "297  NIH Funding Opportunities and Notices in the N...   \n",
       "298  Preventing Chronic Disease (PCD) is a peer-rev...   \n",
       "299  Preventing Chronic Disease (PCD) is a peer-rev...   \n",
       "\n",
       "                                                   url  \\\n",
       "0    https://www.thehindu.com/opinion/lead/the-prim...   \n",
       "1    https://www.thehindu.com/news/cities/Hyderabad...   \n",
       "2    https://www.thehindu.com/news/national/other-s...   \n",
       "3    https://www.thehindu.com/news/cities/mumbai/si...   \n",
       "4    https://www.thehindu.com/opinion/editorial/con...   \n",
       "..                                                 ...   \n",
       "295  https://grants.nih.gov/grants/guide/notice-fil...   \n",
       "296  https://grants.nih.gov/grants/guide/notice-fil...   \n",
       "297  https://grants.nih.gov/grants/guide/notice-fil...   \n",
       "298    https://www.cdc.gov/pcd/issues/2020/20_0447.htm   \n",
       "299    https://www.cdc.gov/pcd/issues/2020/19_0451.htm   \n",
       "\n",
       "                                            urlToImage           publishedAt  \\\n",
       "0    https://www.thehindu.com/opinion/lead/kk337s/a...  2020-10-01T18:42:46Z   \n",
       "1    https://www.thehindu.com/news/cities/Hyderabad...  2020-10-01T18:41:41Z   \n",
       "2    https://www.thehindu.com/static/theme/default/...  2020-10-01T18:40:54Z   \n",
       "3    https://www.thehindu.com/static/theme/default/...  2020-10-01T18:38:18Z   \n",
       "4    https://www.thehindu.com/static/theme/default/...  2020-10-01T18:32:20Z   \n",
       "..                                                 ...                   ...   \n",
       "295  https://www.cdc.gov/mmwr/volumes/69/wr/social-...  2020-09-24T16:23:25Z   \n",
       "296  https://www.cdc.gov/mmwr/volumes/69/wr/social-...  2020-09-24T16:07:51Z   \n",
       "297  https://www.cdc.gov/mmwr/volumes/69/wr/social-...  2020-09-24T16:07:51Z   \n",
       "298  https://www.cdc.gov/mmwr/volumes/69/wr/social-...  2020-09-24T16:05:48Z   \n",
       "299  https://www.cdc.gov/mmwr/volumes/69/wr/social-...  2020-09-24T16:05:48Z   \n",
       "\n",
       "                                               content  \n",
       "0    Sharing his birthday with Gandhi and coming fr...  \n",
       "1    The GHMC standing committee has, during its me...  \n",
       "2    Muzaffarnagar authorities in Uttar Pradesh on ...  \n",
       "3    The Raigad police have arrested a gang of six ...  \n",
       "4    The role played by human rights organisations ...  \n",
       "..                                                 ...  \n",
       "295  Notice of Change to Key Dates for RFA-NS-19-00...  \n",
       "296  NCATS will host a pre-application webinar on T...  \n",
       "297  RFA-HL-21-001 - Hybrid Effectiveness-Implement...  \n",
       "298  Suggested citation for this article: Jack L Jr...  \n",
       "299  Matthew Bozigar, PhD, MA1; Trevor D. Faith, MS...  \n",
       "\n",
       "[300 rows x 9 columns]"
      ]
     },
     "execution_count": 54,
     "metadata": {},
     "output_type": "execute_result"
    }
   ],
   "source": [
    "data"
   ]
  },
  {
   "cell_type": "markdown",
   "metadata": {},
   "source": [
    "# Below mentioned are the list of sources"
   ]
  },
  {
   "cell_type": "code",
   "execution_count": 15,
   "metadata": {},
   "outputs": [
    {
     "data": {
      "text/plain": [
       "['The Washington Post',\n",
       " 'Associated Press',\n",
       " 'The Wall Street Journal',\n",
       " 'Cdc.gov',\n",
       " 'Time',\n",
       " 'NBC News',\n",
       " 'Al Jazeera English',\n",
       " 'Axios',\n",
       " 'National Institutes of Health',\n",
       " 'The Hindu',\n",
       " 'MSNBC',\n",
       " 'CBS News',\n",
       " 'TechCrunch',\n",
       " 'Reuters']"
      ]
     },
     "execution_count": 15,
     "metadata": {},
     "output_type": "execute_result"
    }
   ],
   "source": [
    "list(set(data['source/name']))"
   ]
  },
  {
   "cell_type": "markdown",
   "metadata": {},
   "source": [
    "# Below function is returning the number of article downloaded as you can see in below two cells"
   ]
  },
  {
   "cell_type": "code",
   "execution_count": 9,
   "metadata": {},
   "outputs": [],
   "source": [
    "def count_article_downloaded(list_article):\n",
    "    return len(list_article)"
   ]
  },
  {
   "cell_type": "code",
   "execution_count": 10,
   "metadata": {},
   "outputs": [
    {
     "name": "stdout",
     "output_type": "stream",
     "text": [
      "300\n"
     ]
    }
   ],
   "source": [
    "print(count_article_downloaded(list(data['title'])))"
   ]
  },
  {
   "cell_type": "markdown",
   "metadata": {},
   "source": [
    "# Below mention function will return the number of article mention source as below two cells are for example."
   ]
  },
  {
   "cell_type": "code",
   "execution_count": 25,
   "metadata": {},
   "outputs": [],
   "source": [
    "def number_of_mentioned_article(name_article):\n",
    "    filter_cols = data['source/name']==str(name_article)\n",
    "    new_frame = data.loc[filter_cols,['description']]\n",
    "    return len(new_frame)\n",
    "    "
   ]
  },
  {
   "cell_type": "code",
   "execution_count": 26,
   "metadata": {},
   "outputs": [
    {
     "data": {
      "text/plain": [
       "100"
      ]
     },
     "execution_count": 26,
     "metadata": {},
     "output_type": "execute_result"
    }
   ],
   "source": [
    " number_of_mentioned_article('The Hindu')"
   ]
  },
  {
   "cell_type": "markdown",
   "metadata": {},
   "source": [
    "#  Below mentioned funtion will return the list of unique authors"
   ]
  },
  {
   "cell_type": "code",
   "execution_count": 33,
   "metadata": {},
   "outputs": [],
   "source": [
    "def list_of_unique_authors(list_author):\n",
    "    return list(set(list_author))"
   ]
  },
  {
   "cell_type": "code",
   "execution_count": 34,
   "metadata": {},
   "outputs": [
    {
     "name": "stdout",
     "output_type": "stream",
     "text": [
      "['Blog Coordinator', 'Alayna Treene', 'By The Associated Press', 'P. Sujatha Varma', 'By BRIAN SLODYSKO and MICHAEL BIESECKER Associated Press', 'Sonam Saigal', 'Reuters Editorial', 'wsj', 'Rakesh Ankit', 'Walter Thompson', 'Martha C. White', 'Khristopher J. Brooks', 'Adam Edelman and Marianna Sotomayor', 'Tom Niziol', 'MANASA KAMBANNA', 'Michelle Nichols', 'NBCNews.com', 'Reuters', 'Giji K. Raman, Giji K Raman', 'Jennifer Rubin', 'Staff Reporter\\u200b', 'Mahad Arale', 'Megan Cerullo', 'Omar Rashid', 'Eileen Burbidge', 'By HOWARD FENDRICH and JEROME PUGMIRE AP Sports Writers', 'By DANICA KIRKA and MARIA CHENG Associated Press', 'Corky Siemaszko', 'STAFF REPORTERNew Delhi', 'Claire Cole', 'Saurabh Sharma, Alasdair Pal', 'R.K. Roshni, R..K.Roshni', 'By KRISTIE RIEKEN AP Sports Writer', 'Raphael Satter', 'Andrew Freedman', 'Dr. Francis Collins', 'Staff Reporter', 'Special Correspondent', 'Office of Genomics and Precision Public Health', 'Jonathan Allen, Lisa Shumaker', 'Ramesh Susarla', 'AFP', 'Staff Reporter, Staff Reporter', 'Amitabha Das Sharma', 'Agence France-Presse', 'By MARCIA DUNN AP Aerospace Writer', 'P. Samuel Jonathan', \"Caitlin O'Kane\", 'Tracy Rucinski, Andrea Shalal', 'S. Dipak Ragav', 'Reuters Staff', 'Special CorrespondentMUMBAI', 'Aaron Blake', 'Taylor Hatmaker', 'Howard Schneider', 'Zoe Christen Jones', 'By CLAIRE GALOFARO AP National Writer', 'Aziz  El Yaakoubi', 'Sarah Ewall-Wice', 'By DAVE SKRETTA AP Sports Writer', 'PTI', 'MSNBC.com', 'H.S. RAGHAVENDRA RAO', 'By BECKY BOHRER Associated Press', 'S. Murali', 'Alexandra Ames', 'Circulating Now', 'CDC', 'K. Umashanker', 'Laura Reiley, Kim Bellware', 'Philip Elliott', 'Aamer Madhani', 'Ramin Jahanbegloo', 'Divya Chowdhury, Aaron Saldanha', 'The Hindu', 'NIH Staff', 'By GREG BEACHAM AP Sports Writer', 'Rupa Srikanth', 'Y.B. Sarangi', 'Al Jazeera', 'By MEAD GRUVER Associated Press', 'NCBI Staff', 'MANJUNATH HIREMATH', 'MPX', 'PRESS TRUST OF INDIA', 'Raina Assainar', 'Justin Carissimo']\n"
     ]
    }
   ],
   "source": [
    "print(list_of_unique_authors(data['author']))"
   ]
  },
  {
   "cell_type": "markdown",
   "metadata": {},
   "source": [
    "# Below Mentioned funtion will return the list of article of a particular date passed to it"
   ]
  },
  {
   "cell_type": "code",
   "execution_count": 44,
   "metadata": {},
   "outputs": [],
   "source": [
    "def article_of_mentioned_date(date):\n",
    "    filt = data['publishedAt']==date\n",
    "    new_frame = data.loc[filt,['title']]\n",
    "    return new_frame\n",
    "    "
   ]
  },
  {
   "cell_type": "code",
   "execution_count": 55,
   "metadata": {},
   "outputs": [
    {
     "name": "stdout",
     "output_type": "stream",
     "text": [
      "                                                 title\n",
      "298  Disseminating Timely Peer-Reviewed Content in ...\n",
      "299  A Cross-Sectional Survey to Evaluate Potential...\n"
     ]
    }
   ],
   "source": [
    "print(article_of_mentioned_date('2020-09-24T16:05:48Z'))"
   ]
  },
  {
   "cell_type": "markdown",
   "metadata": {},
   "source": [
    "# Below Mentioned funtion will return the list of articles of the passed source to it"
   ]
  },
  {
   "cell_type": "code",
   "execution_count": 48,
   "metadata": {},
   "outputs": [],
   "source": [
    "def list_of_article_by_source(source_name):\n",
    "    filter_cols = data['source/name']==str(source_name)\n",
    "    new_frame = data.loc[filter_cols,['title']]\n",
    "    return new_frame\n",
    "    "
   ]
  },
  {
   "cell_type": "code",
   "execution_count": 50,
   "metadata": {},
   "outputs": [
    {
     "name": "stdout",
     "output_type": "stream",
     "text": [
      "                                                title\n",
      "0              The Prime Minister India almost forgot\n",
      "1   1,176-km road stretch in Hyderabad up for priv...\n",
      "2   Officials ask sugar mills in Muzaffarnagar to ...\n",
      "3    Six held for robbing truck on Mumbai-Goa highway\n",
      "4   Constraining critique: On Amnesty halting Indi...\n",
      "..                                                ...\n",
      "95  Hathras horror: Congress leader Khandre seeks ...\n",
      "96  Recruitment on to fill up vacancies in noon me...\n",
      "97             Answering your vehicle-related queries\n",
      "98               Girl found dead, family alleges rape\n",
      "99    Congress cadre protest ‘attack’ on Rahul Gandhi\n",
      "\n",
      "[100 rows x 1 columns]\n"
     ]
    }
   ],
   "source": [
    "print(list_of_article_by_source('The Hindu'))"
   ]
  },
  {
   "cell_type": "markdown",
   "metadata": {},
   "source": [
    "# Below Mention funtion will return the list of article corresposding to mentioned author"
   ]
  },
  {
   "cell_type": "code",
   "execution_count": 51,
   "metadata": {},
   "outputs": [],
   "source": [
    "def list_of_article_by_mentioned_author(author_name):\n",
    "    filter_cols = data['author']==str(author_name)\n",
    "    new_frame = data.loc[filter_cols,['title']]\n",
    "    return new_frame\n",
    "    "
   ]
  },
  {
   "cell_type": "code",
   "execution_count": 53,
   "metadata": {},
   "outputs": [
    {
     "name": "stdout",
     "output_type": "stream",
     "text": [
      "                                                title\n",
      "4   Constraining critique: On Amnesty halting Indi...\n",
      "16                    Undying embers: On Hathras rape\n",
      "65  Mart for tribal people opens in Gudalur to mar...\n",
      "75                              Constraining critique\n",
      "97             Answering your vehicle-related queries\n"
     ]
    }
   ],
   "source": [
    "print(list_of_article_by_mentioned_author('The Hindu'))"
   ]
  },
  {
   "cell_type": "code",
   "execution_count": null,
   "metadata": {},
   "outputs": [],
   "source": []
  }
 ],
 "metadata": {
  "kernelspec": {
   "display_name": "Python 3",
   "language": "python",
   "name": "python3"
  },
  "language_info": {
   "codemirror_mode": {
    "name": "ipython",
    "version": 3
   },
   "file_extension": ".py",
   "mimetype": "text/x-python",
   "name": "python",
   "nbconvert_exporter": "python",
   "pygments_lexer": "ipython3",
   "version": "3.8.3"
  }
 },
 "nbformat": 4,
 "nbformat_minor": 4
}
